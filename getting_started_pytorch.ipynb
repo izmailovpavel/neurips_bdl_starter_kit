{
 "cells": [
  {
   "cell_type": "markdown",
   "metadata": {
    "id": "BYzpwF2FLeCH"
   },
   "source": [
    "# Approximate Inference in Bayesian Deep Learning: Getting Started in Pytorch\n",
    "\n",
    "In this colab we will walk you through downloading the data, running your method and generating a submission for our NeurIPS 2021 competition. In this colab we use the Pytorch framework. For Jax see [this notebook](https://colab.research.google.com/drive/1SJ6waN8DOfby6qW9WWgJ0VLyaNzauhYD?usp=sharing).\n",
    "\n",
    "Useful references:\n",
    "- [Competition website](https://izmailovpavel.github.io/neurips_bdl_competition/)\n",
    "- [Efficient implementation of several baselines in JAX](https://github.com/google-research/google-research/tree/master/bnn_hmc)\n",
    "- [Submission platform](https://competitions.codalab.org/competitions/33647)\n",
    "\n",
    "\n",
    "## Setting up colab\n",
    "\n",
    "Colab provides an easy-to-use environment for working on the competition with access to free computational resources. However, you should also be able to run this notebook locally after installing the required dependencies. If you use colab, please select a `GPU` runtime type.\n",
    "\n",
    "## Preparing the data\n"
   ]
  },
  {
   "cell_type": "code",
   "execution_count": null,
   "metadata": {
    "colab": {
     "base_uri": "https://localhost:8080/"
    },
    "id": "MiSuC1jmhmDp",
    "outputId": "af2f2672-80a2-432c-94cf-e810fc45296b"
   },
   "outputs": [
    {
     "name": "stdout",
     "output_type": "stream",
     "text": [
      "Cloning into 'neurips_bdl_starter_kit'...\n",
      "remote: Enumerating objects: 32, done.\u001b[K\n",
      "remote: Counting objects: 100% (32/32), done.\u001b[K\n",
      "remote: Compressing objects: 100% (20/20), done.\u001b[K\n",
      "remote: Total 32 (delta 13), reused 28 (delta 9), pack-reused 0\u001b[K\n",
      "Unpacking objects: 100% (32/32), done.\n"
     ]
    }
   ],
   "source": [
    "!git clone https://github.com/izmailovpavel/neurips_bdl_starter_kit\n",
    "\n",
    "import sys\n",
    "import math\n",
    "import matplotlib\n",
    "import numpy as np\n",
    "import copy\n",
    "\n",
    "import torch \n",
    "import torch.nn as nn\n",
    "import torch.nn.functional as F\n",
    "from torch.utils.data import DataLoader, TensorDataset\n",
    "import torch.optim as optim\n",
    "from matplotlib import pyplot as plt\n",
    "\n",
    "sys.path.append(\"neurips_bdl_starter_kit\")\n",
    "import pytorch_models as p_models"
   ]
  },
  {
   "cell_type": "markdown",
   "metadata": {
    "id": "mrcvRuuJRGhZ"
   },
   "source": [
    "We provide the datasets used in this competition in a public Google Cloud Storage bucket in the `.csv` format. Here we download the data:\n",
    "\n",
    "You can also download the data to your computer by clicking these links:\n",
    "- [CIFAR-10 train features](https://storage.googleapis.com/neurips2021_bdl_competition/cifar10_train_x.csv)\n",
    "- [CIFAR-10 train labels](https://storage.googleapis.com/neurips2021_bdl_competition/cifar10_train_y.csv)\n",
    "- [CIFAR-10 test features](https://storage.googleapis.com/neurips2021_bdl_competition/cifar10_test_x.csv)\n",
    "- [CIFAR-10 test labels](https://storage.googleapis.com/neurips2021_bdl_competition/cifar10_test_y.csv)"
   ]
  },
  {
   "cell_type": "code",
   "execution_count": null,
   "metadata": {
    "colab": {
     "base_uri": "https://localhost:8080/"
    },
    "id": "da-9ecSDnKO9",
    "outputId": "115a104c-cd9e-4717-86ee-d457ddb088aa"
   },
   "outputs": [
    {
     "name": "stdout",
     "output_type": "stream",
     "text": [
      "Copying gs://neurips2021_bdl_competition/cifar10_test_y.csv...\n",
      "/ [0/4 files][    0.0 B/  4.4 GiB]   0% Done                                    \r",
      "Copying gs://neurips2021_bdl_competition/cifar10_test_x.csv...\n",
      "/ [0/4 files][    0.0 B/  4.4 GiB]   0% Done                                    \r",
      "Copying gs://neurips2021_bdl_competition/cifar10_train_x.csv...\n",
      "Copying gs://neurips2021_bdl_competition/cifar10_train_y.csv...\n",
      "/ [4/4 files][  4.4 GiB/  4.4 GiB] 100% Done  70.4 MiB/s ETA 00:00:00           \n",
      "Operation completed over 4 objects/4.4 GiB.                                      \n"
     ]
    }
   ],
   "source": [
    "!gsutil -m cp -r gs://neurips2021_bdl_competition/cifar10_*.csv ."
   ]
  },
  {
   "cell_type": "markdown",
   "metadata": {
    "id": "zDsZHMQzSGpZ"
   },
   "source": [
    "We can now read the data and convert it into numpy arrays. This cell may take several minutes to run."
   ]
  },
  {
   "cell_type": "code",
   "execution_count": null,
   "metadata": {
    "id": "4o8NLOGgnVSV"
   },
   "outputs": [],
   "source": [
    "x_train = np.loadtxt(\"cifar10_train_x.csv\")\n",
    "y_train = np.loadtxt(\"cifar10_train_y.csv\")\n",
    "x_test = np.loadtxt(\"cifar10_test_x.csv\")\n",
    "y_test = np.loadtxt(\"cifar10_test_y.csv\")"
   ]
  },
  {
   "cell_type": "code",
   "execution_count": null,
   "metadata": {
    "id": "iQgkl3ZP1QzM"
   },
   "outputs": [],
   "source": [
    "x_train = x_train.reshape((len(x_train), 3, 32, 32))\n",
    "x_test = x_test.reshape((len(x_test), 3, 32, 32))"
   ]
  },
  {
   "cell_type": "code",
   "execution_count": null,
   "metadata": {
    "colab": {
     "base_uri": "https://localhost:8080/",
     "height": 304
    },
    "id": "i3nFA3RRyuwd",
    "outputId": "72789385-aeb2-4386-a528-a7ed3aaac292"
   },
   "outputs": [
    {
     "name": "stderr",
     "output_type": "stream",
     "text": [
      "Clipping input data to the valid range for imshow with RGB data ([0..1] for floats or [0..255] for integers).\n"
     ]
    },
    {
     "data": {
      "text/plain": [
       "<matplotlib.colorbar.Colorbar at 0x7f6416853ad0>"
      ]
     },
     "execution_count": 5,
     "metadata": {
      "tags": []
     },
     "output_type": "execute_result"
    },
    {
     "data": {
      "image/png": "[encoded data removed]",
      "text/plain": [
       "<Figure size 432x288 with 2 Axes>"
      ]
     },
     "metadata": {
      "needs_background": "light",
      "tags": []
     },
     "output_type": "display_data"
    }
   ],
   "source": [
    "plt.imshow(x_train[0].reshape(32,32,3))\n",
    "plt.colorbar()"
   ]
  },
  {
   "cell_type": "markdown",
   "metadata": {
    "id": "z8JIisIsSeOO"
   },
   "source": [
    "Finally, we define a `torch.utils.data.TensorDataset` for the train and test datasets."
   ]
  },
  {
   "cell_type": "code",
   "execution_count": null,
   "metadata": {
    "id": "RZ3gwA1jmAJt"
   },
   "outputs": [],
   "source": [
    "trainset = TensorDataset(torch.Tensor(x_train), torch.Tensor(y_train))\n",
    "testset = TensorDataset(torch.Tensor(x_test), torch.Tensor(y_test))"
   ]
  },
  {
   "cell_type": "markdown",
   "metadata": {
    "id": "ui5dKavnSoQ9"
   },
   "source": [
    "## Model and losses\n",
    "\n",
    "We provide the code for all the models used in the competition in the `neurips_bdl_starter_kit/torch_models.py` module. Here, we will load a ResNet-20 model with filter response normalization (FRN) and swish activations. The models are implemented in `pytorch`. \n",
    "\n",
    "We also define the cross-entropy likelihood (`log_likelihood_fn`) and Gaussian prior (`log_prior_fn`), and the corresponding posterior log-density (`log_posterior_fn`). The `log_posterior_wgrad_fn` computes the posterior log-density and its gradients with respect to the parameters of the model.\n",
    "\n",
    "The `evaluate_fn` function computes the accuracy and predictions of the model on a given dataset; we will use this function to generate the predictions for our submission."
   ]
  },
  {
   "cell_type": "code",
   "execution_count": null,
   "metadata": {
    "colab": {
     "base_uri": "https://localhost:8080/"
    },
    "id": "gwMaZjf9yDTE",
    "outputId": "19c0f9ef-bb73-4427-ab61-298baf1a7651"
   },
   "outputs": [
    {
     "name": "stdout",
     "output_type": "stream",
     "text": [
      "Thu Jul 15 16:35:54 2021       \n",
      "+-----------------------------------------------------------------------------+\n",
      "| NVIDIA-SMI 470.42.01    Driver Version: 460.32.03    CUDA Version: 11.2     |\n",
      "|-------------------------------+----------------------+----------------------+\n",
      "| GPU  Name        Persistence-M| Bus-Id        Disp.A | Volatile Uncorr. ECC |\n",
      "| Fan  Temp  Perf  Pwr:Usage/Cap|         Memory-Usage | GPU-Util  Compute M. |\n",
      "|                               |                      |               MIG M. |\n",
      "|===============================+======================+======================|\n",
      "|   0  Tesla T4            Off  | 00000000:00:04.0 Off |                    0 |\n",
      "| N/A   43C    P8    10W /  70W |      0MiB / 15109MiB |      0%      Default |\n",
      "|                               |                      |                  N/A |\n",
      "+-------------------------------+----------------------+----------------------+\n",
      "                                                                               \n",
      "+-----------------------------------------------------------------------------+\n",
      "| Processes:                                                                  |\n",
      "|  GPU   GI   CI        PID   Type   Process name                  GPU Memory |\n",
      "|        ID   ID                                                   Usage      |\n",
      "|=============================================================================|\n",
      "|  No running processes found                                                 |\n",
      "+-----------------------------------------------------------------------------+\n"
     ]
    }
   ],
   "source": [
    "!nvidia-smi"
   ]
  },
  {
   "cell_type": "code",
   "execution_count": null,
   "metadata": {
    "colab": {
     "base_uri": "https://localhost:8080/"
    },
    "id": "1kbD51slyAU-",
    "outputId": "f60f133b-57f2-45e0-accd-478aabcee6d6"
   },
   "outputs": [
    {
     "name": "stdout",
     "output_type": "stream",
     "text": [
      "GPU available!\n"
     ]
    }
   ],
   "source": [
    "net_fn =  p_models.get_model(\"resnet20_frn_swish\", data_info={\"num_classes\": 10})\n",
    "if torch.cuda.is_available():\n",
    "    print(\"GPU available!\")\n",
    "    net_fn = net_fn.cuda()"
   ]
  },
  {
   "cell_type": "code",
   "execution_count": null,
   "metadata": {
    "id": "EI5zfRQW0VN6"
   },
   "outputs": [],
   "source": [
    "prior_variance = 5.\n",
    "\n",
    "def log_likelihood_fn(model_state_dict, batch):\n",
    "    \"\"\"Computes the log-likelihood.\"\"\"\n",
    "    x, y = batch\n",
    "    if torch.cuda.is_available():\n",
    "      x = x.cuda()\n",
    "      y = y.cuda()\n",
    "    net_fn.zero_grad()\n",
    "    for name, param in net_fn.named_parameters():\n",
    "        param.data = model_state_dict[name]\n",
    "    logits = net_fn(x)\n",
    "    num_classes = logits.shape[-1]\n",
    "    labels = F.one_hot(y.to(torch.int64), num_classes= num_classes)\n",
    "    softmax_xent = torch.sum(labels * F.log_softmax(logits))\n",
    "\n",
    "    return softmax_xent\n",
    "\n",
    "\n",
    "def log_prior_fn(model_state_dict):\n",
    "    \"\"\"Computes the Gaussian prior log-density.\"\"\"\n",
    "    n_params = sum(p.numel() for p in model_state_dict.values()) \n",
    "    exp_term = sum((-p**2 / (2 * prior_variance)).sum() for p in model_state_dict.values() )\n",
    "    norm_constant = -0.5 * n_params * math.log((2 * math.pi * prior_variance))\n",
    "    return exp_term + norm_constant\n",
    "\n",
    "\n",
    "def log_posterior_fn(model_state_dict, batch):\n",
    "    log_lik = log_likelihood_fn(model_state_dict, batch)\n",
    "    log_prior = log_prior_fn(model_state_dict)\n",
    "    return log_lik + log_prior\n",
    "\n",
    "\n",
    "def get_accuracy_fn(batch, model_state_dict):\n",
    "    x, y = batch\n",
    "    if torch.cuda.is_available():\n",
    "      x = x.cuda()\n",
    "      y = y.cuda()\n",
    "    # get logits \n",
    "    net_fn.eval()\n",
    "    with torch.no_grad():\n",
    "      for name, param in net_fn.named_parameters():\n",
    "          param.data = model_state_dict[name]\n",
    "      logits = net_fn(x)\n",
    "    net_fn.train()\n",
    "    # get log probs \n",
    "    log_probs = F.log_softmax(logits, dim=1)\n",
    "    # get preds \n",
    "    probs = torch.exp(log_probs)\n",
    "    preds = torch.argmax(logits, dim=1)\n",
    "    accuracy = (preds == y).float().mean()\n",
    "    return accuracy, probs\n",
    "\n",
    "\n",
    "def evaluate_fn(data_loader, model_state_dict):\n",
    "    sum_accuracy = 0\n",
    "    all_probs = []\n",
    "    for x, y in data_loader:       \n",
    "        batch_accuracy, batch_probs = get_accuracy_fn((x, y), model_state_dict)\n",
    "        sum_accuracy += batch_accuracy.item()\n",
    "        all_probs.append(batch_probs)\n",
    "    all_probs = torch.cat(all_probs, dim=0)\n",
    "    return sum_accuracy / len(data_loader), all_probs"
   ]
  },
  {
   "cell_type": "markdown",
   "metadata": {
    "id": "KEZnIWNmUEwE"
   },
   "source": [
    "## Optimization and training \n",
    "\n",
    "In this colab we train an approximate maximum-a-posteriori (MAP) solution as our submission for simplicity. You can find efficient implementations of more advanced baselines in jax [here](https://github.com/google-research/google-research/tree/master/bnn_hmc).\n",
    "\n",
    "We use SGD with momentum. You can adjust the hyper-parameters or switch to a different optimizer by changing the code below.\n",
    "\n",
    "We run training for 5 epochs, which can take several minutes to complete. Note that in order to achieve good results you need to run the method substantially longer and tune the hyper-parameters."
   ]
  },
  {
   "cell_type": "code",
   "execution_count": null,
   "metadata": {
    "id": "eKxlP6Iu1jmH"
   },
   "outputs": [],
   "source": [
    "batch_size = 100\n",
    "test_batch_size = 100\n",
    "num_epochs = 10\n",
    "momentum_decay = 0.9\n",
    "lr = 0.001\n",
    "\n",
    "train_loader = DataLoader(trainset, batch_size=batch_size, shuffle=True)\n",
    "test_loader = DataLoader(testset, batch_size=test_batch_size, shuffle=False)"
   ]
  },
  {
   "cell_type": "code",
   "execution_count": null,
   "metadata": {
    "colab": {
     "base_uri": "https://localhost:8080/"
    },
    "id": "fLGw_AVJtjy3",
    "outputId": "ec69ec42-abe0-41a1-b290-dfd260ade08d"
   },
   "outputs": [
    {
     "name": "stderr",
     "output_type": "stream",
     "text": [
      "/usr/local/lib/python3.7/dist-packages/ipykernel_launcher.py:16: UserWarning: Implicit dimension choice for log_softmax has been deprecated. Change the call to include dim=X as an argument.\n",
      "  app.launch_new_instance()\n"
     ]
    },
    {
     "name": "stdout",
     "output_type": "stream",
     "text": [
      "[1,   100] loss: 484943.916\n",
      "[1,   200] loss: 484928.159\n",
      "[1,   300] loss: 484923.939\n",
      "[1,   400] loss: 484918.999\n",
      "[1,   500] loss: 484916.494\n",
      "Epoch 0\n",
      "\tAverage loss: 484926.3013125\n",
      "\tTest accuracy: 0.2085999943315983\n",
      "[2,   100] loss: 484915.014\n",
      "[2,   200] loss: 484910.846\n",
      "[2,   300] loss: 484910.031\n",
      "[2,   400] loss: 484910.391\n",
      "[2,   500] loss: 484906.492\n",
      "Epoch 1\n",
      "\tAverage loss: 484910.55475\n",
      "\tTest accuracy: 0.29139999285340307\n",
      "[3,   100] loss: 484909.698\n",
      "[3,   200] loss: 484906.397\n",
      "[3,   300] loss: 484905.250\n",
      "[3,   400] loss: 484906.953\n",
      "[3,   500] loss: 484908.406\n",
      "Epoch 2\n",
      "\tAverage loss: 484907.340625\n",
      "\tTest accuracy: 0.3525999927520752\n",
      "[4,   100] loss: 484907.397\n",
      "[4,   200] loss: 484911.037\n",
      "[4,   300] loss: 484912.406\n",
      "[4,   400] loss: 484915.801\n",
      "[4,   500] loss: 484919.463\n",
      "Epoch 3\n",
      "\tAverage loss: 484913.22075\n",
      "\tTest accuracy: 0.3986999899148941\n",
      "[5,   100] loss: 484916.747\n",
      "[5,   200] loss: 484920.216\n",
      "[5,   300] loss: 484925.258\n",
      "[5,   400] loss: 484931.242\n",
      "[5,   500] loss: 484930.337\n",
      "Epoch 4\n",
      "\tAverage loss: 484924.759875\n",
      "\tTest accuracy: 0.4132999897003174\n",
      "[6,   100] loss: 484933.309\n",
      "[6,   200] loss: 484936.083\n",
      "[6,   300] loss: 484938.059\n",
      "[6,   400] loss: 484946.466\n",
      "[6,   500] loss: 484947.965\n",
      "Epoch 5\n",
      "\tAverage loss: 484940.3765\n",
      "\tTest accuracy: 0.43829998791217806\n",
      "[7,   100] loss: 484949.258\n",
      "[7,   200] loss: 484954.157\n",
      "[7,   300] loss: 484956.161\n",
      "[7,   400] loss: 484961.198\n",
      "[7,   500] loss: 484963.157\n",
      "Epoch 6\n",
      "\tAverage loss: 484956.7863125\n",
      "\tTest accuracy: 0.4489999884366989\n",
      "[8,   100] loss: 484964.502\n",
      "[8,   200] loss: 484971.585\n",
      "[8,   300] loss: 484974.297\n",
      "[8,   400] loss: 484978.401\n",
      "[8,   500] loss: 484985.867\n",
      "Epoch 7\n",
      "\tAverage loss: 484974.9303125\n",
      "\tTest accuracy: 0.47729998916387556\n",
      "[9,   100] loss: 484985.074\n",
      "[9,   200] loss: 484990.870\n",
      "[9,   300] loss: 484994.815\n",
      "[9,   400] loss: 485000.512\n",
      "[9,   500] loss: 485005.290\n",
      "Epoch 8\n",
      "\tAverage loss: 484995.312125\n",
      "\tTest accuracy: 0.4798999884724617\n",
      "[10,   100] loss: 485006.964\n",
      "[10,   200] loss: 485013.146\n",
      "[10,   300] loss: 485019.063\n",
      "[10,   400] loss: 485021.846\n",
      "[10,   500] loss: 485027.199\n",
      "Epoch 9\n",
      "\tAverage loss: 485017.6435\n",
      "\tTest accuracy: 0.4944999879598618\n"
     ]
    }
   ],
   "source": [
    "epoch_steps = len(train_loader)\n",
    "\n",
    "optimizer = optim.SGD(net_fn.parameters(), lr=lr, momentum=momentum_decay)\n",
    "\n",
    "for epoch in range(num_epochs):\n",
    "  running_loss = 0.0\n",
    "  total_loss = 0.0\n",
    "  for i, data in enumerate(train_loader):\n",
    "    optimizer.zero_grad()\n",
    "    model_state_dict = copy.deepcopy(net_fn.state_dict())\n",
    "    loss = - log_posterior_fn(model_state_dict, data)\n",
    "    loss.backward()\n",
    "    optimizer.step()\n",
    "    running_loss += loss.item()\n",
    "    total_loss += loss.item()\n",
    "    if i % 100 == 99:    # print every 100 mini-batches\n",
    "      print('[%d, %5d] loss: %.3f' %\n",
    "            (epoch + 1, i + 1, running_loss / 100))\n",
    "      running_loss = 0.0\n",
    "  model_state_dict = copy.deepcopy(net_fn.state_dict())\n",
    "  test_acc, all_test_probs = evaluate_fn(test_loader, model_state_dict)\n",
    "  print(\"Epoch {}\".format(epoch))\n",
    "  print(\"\\tAverage loss: {}\".format(total_loss / epoch_steps))\n",
    "  print(\"\\tTest accuracy: {}\".format(test_acc))"
   ]
  },
  {
   "cell_type": "code",
   "execution_count": null,
   "metadata": {
    "id": "L9KjyHdz7rSw"
   },
   "outputs": [],
   "source": [
    "all_test_probs = np.asarray(all_test_probs.cpu())"
   ]
  },
  {
   "cell_type": "markdown",
   "metadata": {
    "id": "QKDfvlHzxulX"
   },
   "source": [
    "## Evaluating metrics"
   ]
  },
  {
   "cell_type": "markdown",
   "metadata": {
    "id": "EiQcDfma00Qn"
   },
   "source": [
    "The starter kit comes with a script that can compute the agreement and total variation distance metrics used in the competition."
   ]
  },
  {
   "cell_type": "code",
   "execution_count": null,
   "metadata": {
    "id": "XNr_UlytxxB8"
   },
   "outputs": [],
   "source": [
    "import metrics"
   ]
  },
  {
   "cell_type": "markdown",
   "metadata": {
    "id": "zu-gQzoY05P2"
   },
   "source": [
    "We can load the HMC reference predictions from the starter kit as well."
   ]
  },
  {
   "cell_type": "code",
   "execution_count": null,
   "metadata": {
    "id": "gdIagtdhxyRu"
   },
   "outputs": [],
   "source": [
    "with open('neurips_bdl_starter_kit/data/cifar10/probs.csv', 'r') as fp:\n",
    "  reference = np.loadtxt(fp)"
   ]
  },
  {
   "cell_type": "markdown",
   "metadata": {
    "id": "80T57WFH09Eh"
   },
   "source": [
    "Now we can compute the metrics!"
   ]
  },
  {
   "cell_type": "code",
   "execution_count": null,
   "metadata": {
    "colab": {
     "base_uri": "https://localhost:8080/"
    },
    "id": "TCSC3Svbx-0M",
    "outputId": "d0c25a26-2ec0-4b5c-8b26-d64f8b7f7653"
   },
   "outputs": [
    {
     "data": {
      "text/plain": [
       "0.5575"
      ]
     },
     "execution_count": 15,
     "metadata": {
      "tags": []
     },
     "output_type": "execute_result"
    }
   ],
   "source": [
    "metrics.agreement(all_test_probs, reference)"
   ]
  },
  {
   "cell_type": "code",
   "execution_count": null,
   "metadata": {
    "colab": {
     "base_uri": "https://localhost:8080/"
    },
    "id": "fJOvBOe0zmhT",
    "outputId": "f650c574-63d4-4e42-c7e2-73316f0f9ce2"
   },
   "outputs": [
    {
     "data": {
      "text/plain": [
       "0.5070471073085077"
      ]
     },
     "execution_count": 17,
     "metadata": {
      "tags": []
     },
     "output_type": "execute_result"
    }
   ],
   "source": [
    "metrics.total_variation_distance(all_test_probs, reference)"
   ]
  },
  {
   "cell_type": "markdown",
   "metadata": {
    "id": "Y7nYa4w3VmnO"
   },
   "source": [
    "## Preparing the submission\n",
    "\n",
    "Once you run the code above, `all_test_probs` should contain an array of size `10000 x 10` where the rows correspond to test datapoints and columns correspond to classes."
   ]
  },
  {
   "cell_type": "code",
   "execution_count": null,
   "metadata": {
    "colab": {
     "base_uri": "https://localhost:8080/"
    },
    "id": "atqsSbjBInpg",
    "outputId": "e09d6459-0b67-4d1a-8b73-ac0be9a4acc2"
   },
   "outputs": [
    {
     "data": {
      "text/plain": [
       "(10000, 10)"
      ]
     },
     "execution_count": 13,
     "metadata": {
      "tags": []
     },
     "output_type": "execute_result"
    }
   ],
   "source": [
    "all_test_probs.shape"
   ]
  },
  {
   "cell_type": "markdown",
   "metadata": {
    "id": "FB2LhtfUW1ar"
   },
   "source": [
    "Now, we need to save the array as `cifar10_probs.csv` and create a zip archive with this file."
   ]
  },
  {
   "cell_type": "code",
   "execution_count": null,
   "metadata": {
    "colab": {
     "base_uri": "https://localhost:8080/"
    },
    "id": "h0CtqrJCI2-F",
    "outputId": "50e9895a-e345-4dc9-f899-c1504b35ff04"
   },
   "outputs": [
    {
     "name": "stdout",
     "output_type": "stream",
     "text": [
      "  adding: cifar10_probs.csv (deflated 63%)\n"
     ]
    }
   ],
   "source": [
    "np.savetxt(\"cifar10_probs.csv\", all_test_probs)\n",
    "\n",
    "!zip submission.zip cifar10_probs.csv"
   ]
  },
  {
   "cell_type": "markdown",
   "metadata": {
    "id": "f-3deTsUNcqI"
   },
   "source": [
    "Finally, you can download the submission by running the code below. If the download doesn't start, check that your browser did not block it automatically."
   ]
  },
  {
   "cell_type": "code",
   "execution_count": null,
   "metadata": {
    "colab": {
     "base_uri": "https://localhost:8080/",
     "height": 17
    },
    "id": "ieCUqCPjJP0k",
    "outputId": "918619c7-c4f1-4bab-eb49-0ff7da7b1683"
   },
   "outputs": [
    {
     "data": {
      "application/javascript": [
       "\n",
       "    async function download(id, filename, size) {\n",
       "      if (!google.colab.kernel.accessAllowed) {\n",
       "        return;\n",
       "      }\n",
       "      const div = document.createElement('div');\n",
       "      const label = document.createElement('label');\n",
       "      label.textContent = `Downloading \"${filename}\": `;\n",
       "      div.appendChild(label);\n",
       "      const progress = document.createElement('progress');\n",
       "      progress.max = size;\n",
       "      div.appendChild(progress);\n",
       "      document.body.appendChild(div);\n",
       "\n",
       "      const buffers = [];\n",
       "      let downloaded = 0;\n",
       "\n",
       "      const channel = await google.colab.kernel.comms.open(id);\n",
       "      // Send a message to notify the kernel that we're ready.\n",
       "      channel.send({})\n",
       "\n",
       "      for await (const message of channel.messages) {\n",
       "        // Send a message to notify the kernel that we're ready.\n",
       "        channel.send({})\n",
       "        if (message.buffers) {\n",
       "          for (const buffer of message.buffers) {\n",
       "            buffers.push(buffer);\n",
       "            downloaded += buffer.byteLength;\n",
       "            progress.value = downloaded;\n",
       "          }\n",
       "        }\n",
       "      }\n",
       "      const blob = new Blob(buffers, {type: 'application/binary'});\n",
       "      const a = document.createElement('a');\n",
       "      a.href = window.URL.createObjectURL(blob);\n",
       "      a.download = filename;\n",
       "      div.appendChild(a);\n",
       "      a.click();\n",
       "      div.remove();\n",
       "    }\n",
       "  "
      ],
      "text/plain": [
       "<IPython.core.display.Javascript object>"
      ]
     },
     "metadata": {
      "tags": []
     },
     "output_type": "display_data"
    },
    {
     "data": {
      "application/javascript": [
       "download(\"download_3c7d6197-cb10-4c80-8600-0c2e093d82fe\", \"submission.zip\", 949458)"
      ],
      "text/plain": [
       "<IPython.core.display.Javascript object>"
      ]
     },
     "metadata": {
      "tags": []
     },
     "output_type": "display_data"
    }
   ],
   "source": [
    "from google.colab import files\n",
    "files.download('submission.zip') "
   ]
  },
  {
   "cell_type": "markdown",
   "metadata": {
    "id": "izLlUVM4XIWv"
   },
   "source": [
    "Now you can head over to the [submission system](https://competitions.codalab.org/competitions/33512?secret_key=10f23c1f-9c86-4a7a-8406-d85b0a0713f2#participate) and upload your submission. Good luck :)"
   ]
  }
 ],
 "metadata": {
  "accelerator": "GPU",
  "colab": {
   "collapsed_sections": [],
   "name": "getting_started_pytorch.ipynb",
   "provenance": []
  },
  "kernelspec": {
   "display_name": "Python 3 (ipykernel)",
   "language": "python",
   "name": "python3"
  },
  "language_info": {
   "codemirror_mode": {
    "name": "ipython",
    "version": 3
   },
   "file_extension": ".py",
   "mimetype": "text/x-python",
   "name": "python",
   "nbconvert_exporter": "python",
   "pygments_lexer": "ipython3",
   "version": "3.9.6"
  }
 },
 "nbformat": 4,
 "nbformat_minor": 1
}
