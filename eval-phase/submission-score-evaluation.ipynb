{
 "cells": [
  {
   "cell_type": "code",
   "execution_count": 1,
   "id": "cbf3c6b0",
   "metadata": {},
   "outputs": [],
   "source": [
    "import numpy as np\n",
    "import scipy.stats\n",
    "from scipy.special import softmax"
   ]
  },
  {
   "cell_type": "code",
   "execution_count": 2,
   "id": "7bb6ba3b",
   "metadata": {},
   "outputs": [],
   "source": [
    "def agreement(predictions: np.array, reference: np.array):\n",
    "    \"\"\"Returns 1 if predictions match and 0 otherwise.\"\"\"\n",
    "    return (predictions.argmax(axis=-1) == reference.argmax(axis=-1)).mean()\n",
    "\n",
    "\n",
    "def total_variation_distance(predictions: np.array, reference: np.array):\n",
    "    \"\"\"Returns total variation distance.\"\"\"\n",
    "    return np.abs(predictions - reference).sum(axis=-1).mean() / 2.\n",
    "\n",
    "\n",
    "def w2_distance(predictions: np.array, reference: np.array):\n",
    "    \"\"\"Returns W-2 distance \"\"\"\n",
    "    NUM_SAMPLES_REQUIRED = 1000\n",
    "    assert predictions.shape[0] == reference.shape[0], \"wrong predictions shape\"\n",
    "    assert predictions.shape[1] == NUM_SAMPLES_REQUIRED, \"wrong number of samples\"\n",
    "    return -np.mean([scipy.stats.wasserstein_distance(pred, ref) for\n",
    "                     pred, ref in zip(predictions, reference)])"
   ]
  },
  {
   "cell_type": "code",
   "execution_count": 3,
   "id": "e740f625",
   "metadata": {},
   "outputs": [],
   "source": [
    "cifar_gt = np.genfromtxt(\"eval_data/cifar_probs.csv\")\n",
    "medmnist_gt = np.genfromtxt(\"eval_data/medmnist_probs.csv\")\n",
    "uci_gt = np.genfromtxt(\"eval_data/uci_samples.csv\")"
   ]
  },
  {
   "cell_type": "markdown",
   "id": "347fb81c",
   "metadata": {},
   "source": [
    "### CIFAR-10"
   ]
  },
  {
   "cell_type": "code",
   "execution_count": 4,
   "id": "8b51818e",
   "metadata": {},
   "outputs": [],
   "source": [
    "# replace with your predictions\n",
    "# predictions = np.genfromtxt(\"submitted_zip/cifar_probs.csv\")\n",
    "predictions = softmax(np.random.randn(50000, 10), axis=-1)"
   ]
  },
  {
   "cell_type": "code",
   "execution_count": 5,
   "id": "447351b3",
   "metadata": {},
   "outputs": [
    {
     "name": "stdout",
     "output_type": "stream",
     "text": [
      "Public Agreement: 0.1005\n",
      "Full Agreement: 0.0992\n",
      "\n",
      "Public TV: 0.8069905759986005\n",
      "Full TV: 0.7489844201069392\n",
      "\n"
     ]
    }
   ],
   "source": [
    "agreements = agreement(predictions[:10000], cifar_gt[:10000]), agreement(predictions, cifar_gt)\n",
    "tvs = (total_variation_distance(predictions[:10000], cifar_gt[:10000]),\n",
    "      total_variation_distance(predictions, cifar_gt))\n",
    "print(f\"Public Agreement: {agreements[0]}\\n\"\n",
    "      f\"Full Agreement: {agreements[1]}\\n\")\n",
    "print(f\"Public TV: {tvs[0]}\\n\"\n",
    "      f\"Full TV: {tvs[1]}\\n\")"
   ]
  },
  {
   "cell_type": "markdown",
   "id": "07bc2ddb",
   "metadata": {},
   "source": [
    "### MedMNIST"
   ]
  },
  {
   "cell_type": "code",
   "execution_count": 6,
   "id": "28fd48e9",
   "metadata": {},
   "outputs": [],
   "source": [
    "# replace with your predictions\n",
    "# predictions = np.genfromtxt(\"submitted_zip/medmnist_probs.csv\")\n",
    "predictions = softmax(np.random.randn(2000, 7), axis=-1)"
   ]
  },
  {
   "cell_type": "code",
   "execution_count": 7,
   "id": "35f01be1",
   "metadata": {},
   "outputs": [
    {
     "name": "stdout",
     "output_type": "stream",
     "text": [
      "Public Agreement: 0.156\n",
      "Full Agreement: 0.148\n",
      "\n",
      "Public TV: 0.6947956197485198\n",
      "Full TV: 0.6994507621011583\n",
      "\n"
     ]
    }
   ],
   "source": [
    "agreements = agreement(predictions[:1000], medmnist_gt[:1000]), agreement(predictions, medmnist_gt)\n",
    "tvs = (total_variation_distance(predictions[:1000], medmnist_gt[:1000]),\n",
    "      total_variation_distance(predictions, medmnist_gt))\n",
    "print(f\"Public Agreement: {agreements[0]}\\n\"\n",
    "      f\"Full Agreement: {agreements[1]}\\n\")\n",
    "print(f\"Public TV: {tvs[0]}\\n\"\n",
    "      f\"Full TV: {tvs[1]}\\n\")"
   ]
  },
  {
   "cell_type": "markdown",
   "id": "248318a1",
   "metadata": {},
   "source": [
    "### UCI"
   ]
  },
  {
   "cell_type": "code",
   "execution_count": 8,
   "id": "6e36a85e",
   "metadata": {},
   "outputs": [
    {
     "data": {
      "text/plain": [
       "(256, 1000)"
      ]
     },
     "execution_count": 8,
     "metadata": {},
     "output_type": "execute_result"
    }
   ],
   "source": [
    "# replace with your samples\n",
    "# samples = np.genfromtxt(\"submitted_zip/uci_samples.csv\")\n",
    "samples = np.random.randn(256, 1000)\n",
    "samples.shape"
   ]
  },
  {
   "cell_type": "code",
   "execution_count": 9,
   "id": "4e10fb07",
   "metadata": {
    "scrolled": false
   },
   "outputs": [
    {
     "name": "stdout",
     "output_type": "stream",
     "text": [
      "Public: -0.9814617912810042\n",
      "Full: -0.9283811233060233\n"
     ]
    }
   ],
   "source": [
    "# UCI\n",
    "samples = samples\n",
    "result_public, result_full = w2_distance(samples[:100, ], uci_gt.T[:100, ]), w2_distance(samples, uci_gt.T)\n",
    "print(f\"Public: {result_public}\\nFull: {result_full}\")"
   ]
  },
  {
   "cell_type": "code",
   "execution_count": null,
   "id": "0258bcfc",
   "metadata": {},
   "outputs": [],
   "source": []
  }
 ],
 "metadata": {
  "kernelspec": {
   "display_name": "py39",
   "language": "python",
   "name": "py39"
  },
  "language_info": {
   "codemirror_mode": {
    "name": "ipython",
    "version": 3
   },
   "file_extension": ".py",
   "mimetype": "text/x-python",
   "name": "python",
   "nbconvert_exporter": "python",
   "pygments_lexer": "ipython3",
   "version": "3.9.12"
  }
 },
 "nbformat": 4,
 "nbformat_minor": 5
}
